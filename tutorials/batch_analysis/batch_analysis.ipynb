{
 "cells": [
  {
   "cell_type": "markdown",
   "metadata": {},
   "source": [
    "[![Colab](https://colab.research.google.com/assets/colab-badge.svg)](https://colab.research.google.com/github/ryanharvey1/neuro_py/blob/main/tutorials/batch_analysis.ipynb)\n",
    "&nbsp;\n",
    "[![Kaggle](https://kaggle.com/static/images/open-in-kaggle.svg)](https://kaggle.com/kernels/welcome?src=https://raw.githubusercontent.com/ryanharvey1/neuro_py/main/tutorials/batch_analysis.ipynb)\n",
    "&nbsp;\n",
    "[![Binder](https://mybinder.org/badge_logo.svg)](https://mybinder.org/v2/gh/ryanharvey1/neuro_py/main?labpath=tutorials%2Fbatch_analysis.ipynb)"
   ]
  },
  {
   "cell_type": "markdown",
   "metadata": {},
   "source": [
    "# Batch Analysis\n",
    "\n",
    "---"
   ]
  },
  {
   "cell_type": "markdown",
   "metadata": {},
   "source": [
    "## Setup"
   ]
  },
  {
   "cell_type": "code",
   "execution_count": 1,
   "metadata": {},
   "outputs": [],
   "source": [
    "%reload_ext autoreload\n",
    "%autoreload 2\n",
    "\n",
    "from neuro_py.process import batch_analysis\n",
    "\n",
    "import pandas as pd\n",
    "import numpy as np"
   ]
  },
  {
   "cell_type": "markdown",
   "metadata": {},
   "source": [
    "## Section 1: Define the analysis\n",
    "\n",
    "Here, I'm defining the analysis in the notebook, but in a real project, you would define it in a separate `.py` file and import it here."
   ]
  },
  {
   "cell_type": "code",
   "execution_count": 2,
   "metadata": {},
   "outputs": [],
   "source": [
    "def toy_analysis(basepath, parameter_1=1, parameter_2=2):\n",
    "    results = pd.DataFrame()\n",
    "    results[\"basepath\"] = [basepath]\n",
    "    results[\"parameter_1\"] = parameter_1\n",
    "    results[\"parameter_2\"] = parameter_2\n",
    "    results[\"random_number\"] = np.random.randint(0, 100)\n",
    "    return results"
   ]
  },
  {
   "cell_type": "markdown",
   "metadata": {},
   "source": [
    "For your project, you will have a `.csv` file with the `basepaths` you want to analyze. Here, I'm creating a `DataFrame` with the `basepaths` for the purpose of this notebook."
   ]
  },
  {
   "cell_type": "code",
   "execution_count": 3,
   "metadata": {},
   "outputs": [],
   "source": [
    "sessions = pd.DataFrame(dict(basepath=[\n",
    "    r\"U:\\data\\hpc_ctx_project\\HP01\\day_1_20240227\",\n",
    "    r\"U:\\data\\hpc_ctx_project\\HP01\\day_2_20240228\",\n",
    "    r\"U:\\data\\hpc_ctx_project\\HP01\\day_3_20240229\",\n",
    "]))"
   ]
  },
  {
   "cell_type": "markdown",
   "metadata": {},
   "source": [
    "You will need to define the path where you want to save the results of your analysis.\n",
    "\n",
    "It's useful to nest the analysis version in a subfolder (`toy_analysis\\toy_analysis_v1`) to keep track of the different versions of your analysis. "
   ]
  },
  {
   "cell_type": "code",
   "execution_count": 4,
   "metadata": {},
   "outputs": [],
   "source": [
    "save_path = r\"Z:\\home\\ryanh\\projects\\hpc_ctx\\toy_analysis\\toy_analysis_v1\""
   ]
  },
  {
   "cell_type": "markdown",
   "metadata": {},
   "source": [
    "## Section 2: Run the analysis\n",
    "\n",
    "**Finally, you can run your analysis in batch mode. This will loop through the `basepaths` and save the results in the specified folder.**\n",
    "\n",
    "The `batch_analysis` function is a general function that you can use for any analysis. You just need to pass the function you want to run, the `basepaths` you want to analyze, and the save path.\n",
    "\n",
    "If your analysis fails, running again will start from where it left off.\n",
    "\n",
    "There is a `parallel` option that you can set to `True` if you want to run the analysis in parallel. This will speed up the analysis if you have multiple cores."
   ]
  },
  {
   "cell_type": "code",
   "execution_count": 5,
   "metadata": {},
   "outputs": [
    {
     "name": "stderr",
     "output_type": "stream",
     "text": [
      "100%|██████████| 3/3 [00:00<00:00, 3007.39it/s]"
     ]
    },
    {
     "name": "stdout",
     "output_type": "stream",
     "text": [
      "U:\\data\\hpc_ctx_project\\HP01\\day_1_20240227\n",
      "U:\\data\\hpc_ctx_project\\HP01\\day_2_20240228\n",
      "U:\\data\\hpc_ctx_project\\HP01\\day_3_20240229\n"
     ]
    },
    {
     "name": "stderr",
     "output_type": "stream",
     "text": [
      "\n"
     ]
    }
   ],
   "source": [
    "batch_analysis.run(\n",
    "    sessions,\n",
    "    save_path,\n",
    "    toy_analysis,\n",
    "    parallel=False,\n",
    "    verbose=True,\n",
    ")"
   ]
  },
  {
   "cell_type": "markdown",
   "metadata": {},
   "source": [
    "## Section 3: Load the results\n",
    "\n",
    "There is a built in loader that concatenates the results of the analysis into a single `DataFrame`."
   ]
  },
  {
   "cell_type": "code",
   "execution_count": 6,
   "metadata": {},
   "outputs": [
    {
     "data": {
      "text/html": [
       "<div>\n",
       "<style scoped>\n",
       "    .dataframe tbody tr th:only-of-type {\n",
       "        vertical-align: middle;\n",
       "    }\n",
       "\n",
       "    .dataframe tbody tr th {\n",
       "        vertical-align: top;\n",
       "    }\n",
       "\n",
       "    .dataframe thead th {\n",
       "        text-align: right;\n",
       "    }\n",
       "</style>\n",
       "<table border=\"1\" class=\"dataframe\">\n",
       "  <thead>\n",
       "    <tr style=\"text-align: right;\">\n",
       "      <th></th>\n",
       "      <th>basepath</th>\n",
       "      <th>paramater_1</th>\n",
       "      <th>paramater_2</th>\n",
       "      <th>random_number</th>\n",
       "    </tr>\n",
       "  </thead>\n",
       "  <tbody>\n",
       "    <tr>\n",
       "      <th>0</th>\n",
       "      <td>U:\\data\\hpc_ctx_project\\HP01\\day_1_20240227</td>\n",
       "      <td>1</td>\n",
       "      <td>2</td>\n",
       "      <td>34</td>\n",
       "    </tr>\n",
       "    <tr>\n",
       "      <th>1</th>\n",
       "      <td>U:\\data\\hpc_ctx_project\\HP01\\day_2_20240228</td>\n",
       "      <td>1</td>\n",
       "      <td>2</td>\n",
       "      <td>30</td>\n",
       "    </tr>\n",
       "    <tr>\n",
       "      <th>2</th>\n",
       "      <td>U:\\data\\hpc_ctx_project\\HP01\\day_3_20240229</td>\n",
       "      <td>1</td>\n",
       "      <td>2</td>\n",
       "      <td>66</td>\n",
       "    </tr>\n",
       "  </tbody>\n",
       "</table>\n",
       "</div>"
      ],
      "text/plain": [
       "                                      basepath  paramater_1  paramater_2  \\\n",
       "0  U:\\data\\hpc_ctx_project\\HP01\\day_1_20240227            1            2   \n",
       "1  U:\\data\\hpc_ctx_project\\HP01\\day_2_20240228            1            2   \n",
       "2  U:\\data\\hpc_ctx_project\\HP01\\day_3_20240229            1            2   \n",
       "\n",
       "   random_number  \n",
       "0             34  \n",
       "1             30  \n",
       "2             66  "
      ]
     },
     "execution_count": 6,
     "metadata": {},
     "output_type": "execute_result"
    }
   ],
   "source": [
    "results = batch_analysis.load_results(save_path)\n",
    "results"
   ]
  },
  {
   "cell_type": "markdown",
   "metadata": {},
   "source": [
    "## Bonus: More complicated results\n",
    "\n",
    "Your results won't always fit nicely into a single `DataFrame`. Sometimes you will have multiple data types you need to save.\n",
    "\n",
    "For example, you might have values for each cell in a `DataFrame` and also PSTHs for each cell. Your analysis will store both in a dictionary and you will construct a custom loader in your analysis."
   ]
  },
  {
   "cell_type": "markdown",
   "metadata": {},
   "source": [
    "### Define the analysis"
   ]
  },
  {
   "cell_type": "code",
   "execution_count": 7,
   "metadata": {},
   "outputs": [],
   "source": [
    "import glob\n",
    "import os\n",
    "import pickle\n",
    "\n",
    "\n",
    "def toy_analysis_2(basepath, paramater_1=1, paramater_2=2):\n",
    "    results_df = pd.DataFrame()\n",
    "    results_df[\"basepath\"] = [basepath]\n",
    "    results_df[\"paramater_1\"] = paramater_1\n",
    "    results_df[\"paramater_2\"] = paramater_2\n",
    "    results_df[\"random_number\"] = np.random.randint(0, 100)\n",
    "\n",
    "    window_starttime, window_stoptime = [-1, 1]\n",
    "    window_bins = int(np.ceil(((window_stoptime - window_starttime) * 1000)))\n",
    "    time_lags = np.linspace(window_starttime, window_stoptime, window_bins)\n",
    "    psths = pd.DataFrame(\n",
    "        index=time_lags,\n",
    "        columns=np.arange(1),\n",
    "    )\n",
    "    psths[:] = np.random.rand(window_bins, 1)\n",
    "\n",
    "    results = {\n",
    "        \"results_df\": results_df,\n",
    "        \"psth\": psths,\n",
    "    }\n",
    "    return results\n",
    "\n",
    "# custom loader\n",
    "def load_results(save_path, verbose=False):\n",
    "\n",
    "    # check if folder exists\n",
    "    if not os.path.exists(save_path):\n",
    "        raise ValueError(f\"folder {save_path} does not exist\")\n",
    "\n",
    "    # get all the sessions\n",
    "    sessions = glob.glob(save_path + os.sep + \"*.pkl\")\n",
    "\n",
    "    results_df = []\n",
    "    psths = []\n",
    "\n",
    "    # iterate over the sessions\n",
    "    for session in sessions:\n",
    "        if verbose:\n",
    "            print(session)\n",
    "\n",
    "        # load the session\n",
    "        with open(session, \"rb\") as f:\n",
    "            results_ = pickle.load(f)\n",
    "\n",
    "        if results_ is None:\n",
    "            continue\n",
    "        results_df.append(results_[\"results_df\"])\n",
    "        psths.append(results_[\"psth\"])\n",
    "\n",
    "    results_df = pd.concat(results_df, axis=0, ignore_index=True)\n",
    "    psths = pd.concat(psths, axis=1, ignore_index=True)\n",
    "\n",
    "    return results_df, psths"
   ]
  },
  {
   "cell_type": "markdown",
   "metadata": {},
   "source": [
    "### Run the analysis"
   ]
  },
  {
   "cell_type": "code",
   "execution_count": 8,
   "metadata": {},
   "outputs": [
    {
     "name": "stderr",
     "output_type": "stream",
     "text": [
      "100%|██████████| 3/3 [00:00<00:00, 3008.11it/s]"
     ]
    },
    {
     "name": "stdout",
     "output_type": "stream",
     "text": [
      "U:\\data\\hpc_ctx_project\\HP01\\day_1_20240227\n",
      "U:\\data\\hpc_ctx_project\\HP01\\day_2_20240228\n",
      "U:\\data\\hpc_ctx_project\\HP01\\day_3_20240229\n"
     ]
    },
    {
     "name": "stderr",
     "output_type": "stream",
     "text": [
      "\n"
     ]
    }
   ],
   "source": [
    "save_path = r\"Z:\\home\\ryanh\\projects\\hpc_ctx\\toy_analysis\\toy_analysis_v2\"\n",
    "\n",
    "batch_analysis.run(\n",
    "    sessions,\n",
    "    save_path,\n",
    "    toy_analysis_2,\n",
    "    parallel=False,\n",
    "    verbose=True,\n",
    ")"
   ]
  },
  {
   "cell_type": "markdown",
   "metadata": {},
   "source": [
    "### Load the results"
   ]
  },
  {
   "cell_type": "code",
   "execution_count": 9,
   "metadata": {},
   "outputs": [
    {
     "data": {
      "text/html": [
       "<div>\n",
       "<style scoped>\n",
       "    .dataframe tbody tr th:only-of-type {\n",
       "        vertical-align: middle;\n",
       "    }\n",
       "\n",
       "    .dataframe tbody tr th {\n",
       "        vertical-align: top;\n",
       "    }\n",
       "\n",
       "    .dataframe thead th {\n",
       "        text-align: right;\n",
       "    }\n",
       "</style>\n",
       "<table border=\"1\" class=\"dataframe\">\n",
       "  <thead>\n",
       "    <tr style=\"text-align: right;\">\n",
       "      <th></th>\n",
       "      <th>basepath</th>\n",
       "      <th>paramater_1</th>\n",
       "      <th>paramater_2</th>\n",
       "      <th>random_number</th>\n",
       "    </tr>\n",
       "  </thead>\n",
       "  <tbody>\n",
       "    <tr>\n",
       "      <th>0</th>\n",
       "      <td>U:\\data\\hpc_ctx_project\\HP01\\day_1_20240227</td>\n",
       "      <td>1</td>\n",
       "      <td>2</td>\n",
       "      <td>56</td>\n",
       "    </tr>\n",
       "    <tr>\n",
       "      <th>1</th>\n",
       "      <td>U:\\data\\hpc_ctx_project\\HP01\\day_2_20240228</td>\n",
       "      <td>1</td>\n",
       "      <td>2</td>\n",
       "      <td>32</td>\n",
       "    </tr>\n",
       "    <tr>\n",
       "      <th>2</th>\n",
       "      <td>U:\\data\\hpc_ctx_project\\HP01\\day_3_20240229</td>\n",
       "      <td>1</td>\n",
       "      <td>2</td>\n",
       "      <td>56</td>\n",
       "    </tr>\n",
       "  </tbody>\n",
       "</table>\n",
       "</div>"
      ],
      "text/plain": [
       "                                      basepath  paramater_1  paramater_2  \\\n",
       "0  U:\\data\\hpc_ctx_project\\HP01\\day_1_20240227            1            2   \n",
       "1  U:\\data\\hpc_ctx_project\\HP01\\day_2_20240228            1            2   \n",
       "2  U:\\data\\hpc_ctx_project\\HP01\\day_3_20240229            1            2   \n",
       "\n",
       "   random_number  \n",
       "0             56  \n",
       "1             32  \n",
       "2             56  "
      ]
     },
     "metadata": {},
     "output_type": "display_data"
    },
    {
     "data": {
      "text/html": [
       "<div>\n",
       "<style scoped>\n",
       "    .dataframe tbody tr th:only-of-type {\n",
       "        vertical-align: middle;\n",
       "    }\n",
       "\n",
       "    .dataframe tbody tr th {\n",
       "        vertical-align: top;\n",
       "    }\n",
       "\n",
       "    .dataframe thead th {\n",
       "        text-align: right;\n",
       "    }\n",
       "</style>\n",
       "<table border=\"1\" class=\"dataframe\">\n",
       "  <thead>\n",
       "    <tr style=\"text-align: right;\">\n",
       "      <th></th>\n",
       "      <th>0</th>\n",
       "      <th>1</th>\n",
       "      <th>2</th>\n",
       "    </tr>\n",
       "  </thead>\n",
       "  <tbody>\n",
       "    <tr>\n",
       "      <th>-1.000000</th>\n",
       "      <td>0.190685</td>\n",
       "      <td>0.490553</td>\n",
       "      <td>0.248958</td>\n",
       "    </tr>\n",
       "    <tr>\n",
       "      <th>-0.998999</th>\n",
       "      <td>0.078999</td>\n",
       "      <td>0.689063</td>\n",
       "      <td>0.40577</td>\n",
       "    </tr>\n",
       "    <tr>\n",
       "      <th>-0.997999</th>\n",
       "      <td>0.094847</td>\n",
       "      <td>0.788747</td>\n",
       "      <td>0.966084</td>\n",
       "    </tr>\n",
       "    <tr>\n",
       "      <th>-0.996998</th>\n",
       "      <td>0.287616</td>\n",
       "      <td>0.804512</td>\n",
       "      <td>0.846309</td>\n",
       "    </tr>\n",
       "    <tr>\n",
       "      <th>-0.995998</th>\n",
       "      <td>0.723807</td>\n",
       "      <td>0.996373</td>\n",
       "      <td>0.850087</td>\n",
       "    </tr>\n",
       "    <tr>\n",
       "      <th>...</th>\n",
       "      <td>...</td>\n",
       "      <td>...</td>\n",
       "      <td>...</td>\n",
       "    </tr>\n",
       "    <tr>\n",
       "      <th>0.995998</th>\n",
       "      <td>0.023565</td>\n",
       "      <td>0.136486</td>\n",
       "      <td>0.120244</td>\n",
       "    </tr>\n",
       "    <tr>\n",
       "      <th>0.996998</th>\n",
       "      <td>0.298943</td>\n",
       "      <td>0.844828</td>\n",
       "      <td>0.227437</td>\n",
       "    </tr>\n",
       "    <tr>\n",
       "      <th>0.997999</th>\n",
       "      <td>0.514455</td>\n",
       "      <td>0.847778</td>\n",
       "      <td>0.782702</td>\n",
       "    </tr>\n",
       "    <tr>\n",
       "      <th>0.998999</th>\n",
       "      <td>0.975054</td>\n",
       "      <td>0.795339</td>\n",
       "      <td>0.898294</td>\n",
       "    </tr>\n",
       "    <tr>\n",
       "      <th>1.000000</th>\n",
       "      <td>0.122129</td>\n",
       "      <td>0.228904</td>\n",
       "      <td>0.168518</td>\n",
       "    </tr>\n",
       "  </tbody>\n",
       "</table>\n",
       "<p>2000 rows × 3 columns</p>\n",
       "</div>"
      ],
      "text/plain": [
       "                  0         1         2\n",
       "-1.000000  0.190685  0.490553  0.248958\n",
       "-0.998999  0.078999  0.689063   0.40577\n",
       "-0.997999  0.094847  0.788747  0.966084\n",
       "-0.996998  0.287616  0.804512  0.846309\n",
       "-0.995998  0.723807  0.996373  0.850087\n",
       "...             ...       ...       ...\n",
       " 0.995998  0.023565  0.136486  0.120244\n",
       " 0.996998  0.298943  0.844828  0.227437\n",
       " 0.997999  0.514455  0.847778  0.782702\n",
       " 0.998999  0.975054  0.795339  0.898294\n",
       " 1.000000  0.122129  0.228904  0.168518\n",
       "\n",
       "[2000 rows x 3 columns]"
      ]
     },
     "metadata": {},
     "output_type": "display_data"
    }
   ],
   "source": [
    "results_df, psths = load_results(save_path)\n",
    "\n",
    "display(results_df)\n",
    "display(psths)"
   ]
  },
  {
   "cell_type": "markdown",
   "metadata": {},
   "source": [
    "---"
   ]
  }
 ],
 "metadata": {
  "kernelspec": {
   "display_name": "44n",
   "language": "python",
   "name": "python3"
  },
  "language_info": {
   "codemirror_mode": {
    "name": "ipython",
    "version": 3
   },
   "file_extension": ".py",
   "mimetype": "text/x-python",
   "name": "python",
   "nbconvert_exporter": "python",
   "pygments_lexer": "ipython3",
   "version": "3.9.19"
  }
 },
 "nbformat": 4,
 "nbformat_minor": 2
}
